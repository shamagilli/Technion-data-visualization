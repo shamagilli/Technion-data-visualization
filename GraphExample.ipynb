{
 "cells": [
  {
   "cell_type": "markdown",
   "metadata": {},
   "source": [
    "# Example for data visualization in Python"
   ]
  },
  {
   "cell_type": "markdown",
   "metadata": {},
   "source": [
    "This notebook is in Jupyter Python 3.6\n",
    "- When Cell Type is Markdown text is handled as a remark. You can also write remarks starting with #.\n",
    "- Type Enter to add a line within a cell, and Shift+Enter to run a Code cell and add next cell below"
   ]
  },
  {
   "cell_type": "markdown",
   "metadata": {},
   "source": [
    "## Reading the data file"
   ]
  },
  {
   "cell_type": "code",
   "execution_count": 3,
   "metadata": {
    "collapsed": true
   },
   "outputs": [],
   "source": [
    "import pandas as pd #pandas is the basic data analytics library, which enables to handle data frames"
   ]
  },
  {
   "cell_type": "code",
   "execution_count": 4,
   "metadata": {
    "collapsed": true
   },
   "outputs": [],
   "source": [
    "df = pd.read_excel(\"salary_data.xlsx\")  #This is the data file we reviewed previous lesson in Tableau"
   ]
  },
  {
   "cell_type": "markdown",
   "metadata": {},
   "source": [
    "Files can be read as csv: \n",
    "- FN1 = \"salary_data.csv\"\n",
    "- df = pd.read_csv(FN1, encoding = 'iso-8859-1') \n",
    "- To read csv you need to know its encoding. \n",
    "    - If you use Linux the command !ls -l \"{FN1}\" will show encoding. \n",
    "    - In Windows you can open the csv file with Notepad++ to view or change its encoding"
   ]
  },
  {
   "cell_type": "markdown",
   "metadata": {},
   "source": [
    "## Data frame description"
   ]
  },
  {
   "cell_type": "code",
   "execution_count": 5,
   "metadata": {
    "collapsed": false,
    "scrolled": true
   },
   "outputs": [
    {
     "data": {
      "text/plain": [
       "167278"
      ]
     },
     "execution_count": 5,
     "metadata": {},
     "output_type": "execute_result"
    }
   ],
   "source": [
    "len(df)  #Shows the length, that is number of records"
   ]
  },
  {
   "cell_type": "code",
   "execution_count": 6,
   "metadata": {
    "collapsed": false,
    "scrolled": true
   },
   "outputs": [
    {
     "data": {
      "text/html": [
       "<div>\n",
       "<table border=\"1\" class=\"dataframe\">\n",
       "  <thead>\n",
       "    <tr style=\"text-align: right;\">\n",
       "      <th></th>\n",
       "      <th>CASE_NUMBER</th>\n",
       "      <th>CASE_STATUS</th>\n",
       "      <th>CASE_RECEIVED_DATE</th>\n",
       "      <th>DECISION_DATE</th>\n",
       "      <th>EMPLOYER_NAME</th>\n",
       "      <th>PREVAILING_WAGE_SUBMITTED</th>\n",
       "      <th>PREVAILING_WAGE_SUBMITTED_UNIT</th>\n",
       "      <th>PAID_WAGE_SUBMITTED</th>\n",
       "      <th>PAID_WAGE_SUBMITTED_UNIT</th>\n",
       "      <th>JOB_TITLE</th>\n",
       "      <th>...</th>\n",
       "      <th>PREVAILING_WAGE_SOC_CODE</th>\n",
       "      <th>PREVAILING_WAGE_SOC_TITLE</th>\n",
       "      <th>WORK_STATE</th>\n",
       "      <th>WORK_POSTAL_CODE</th>\n",
       "      <th>FULL_TIME_POSITION_Y_N</th>\n",
       "      <th>VISA_CLASS</th>\n",
       "      <th>PREVAILING_WAGE_PER_YEAR</th>\n",
       "      <th>PAID_WAGE_PER_YEAR</th>\n",
       "      <th>JOB_TITLE_SUBGROUP</th>\n",
       "      <th>order</th>\n",
       "    </tr>\n",
       "  </thead>\n",
       "  <tbody>\n",
       "    <tr>\n",
       "      <th>0</th>\n",
       "      <td>I-200-14073-248840</td>\n",
       "      <td>denied</td>\n",
       "      <td>3/14/2014</td>\n",
       "      <td>3/21/2014</td>\n",
       "      <td>ADVANCED TECHNOLOGY GROUP USA, INC.</td>\n",
       "      <td>6217100.0</td>\n",
       "      <td>year</td>\n",
       "      <td>62171.0</td>\n",
       "      <td>year</td>\n",
       "      <td>SOFTWARE ENGINEER</td>\n",
       "      <td>...</td>\n",
       "      <td>15-1132</td>\n",
       "      <td>Software Developers, Applications</td>\n",
       "      <td>IL</td>\n",
       "      <td>NaN</td>\n",
       "      <td>y</td>\n",
       "      <td>H-1B</td>\n",
       "      <td>NaN</td>\n",
       "      <td>62171.0</td>\n",
       "      <td>software engineer</td>\n",
       "      <td>1</td>\n",
       "    </tr>\n",
       "    <tr>\n",
       "      <th>1</th>\n",
       "      <td>A-15061-55212</td>\n",
       "      <td>denied</td>\n",
       "      <td>3/19/2015</td>\n",
       "      <td>3/19/2015</td>\n",
       "      <td>SAN FRANCISCO STATE UNIVERSITY</td>\n",
       "      <td>5067600.0</td>\n",
       "      <td>year</td>\n",
       "      <td>91440.0</td>\n",
       "      <td>year</td>\n",
       "      <td>Assistant Professor of Marketing</td>\n",
       "      <td>...</td>\n",
       "      <td>25-1011</td>\n",
       "      <td>Business Teachers, Postsecondary</td>\n",
       "      <td>CALIFORNIA</td>\n",
       "      <td>94132.0</td>\n",
       "      <td>NaN</td>\n",
       "      <td>greencard</td>\n",
       "      <td>NaN</td>\n",
       "      <td>91440.0</td>\n",
       "      <td>assistant professor</td>\n",
       "      <td>2</td>\n",
       "    </tr>\n",
       "    <tr>\n",
       "      <th>2</th>\n",
       "      <td>I-200-13256-001092</td>\n",
       "      <td>denied</td>\n",
       "      <td>9/13/2013</td>\n",
       "      <td>9/23/2013</td>\n",
       "      <td>CAROUSEL SCHOOL</td>\n",
       "      <td>4947000.0</td>\n",
       "      <td>year</td>\n",
       "      <td>49470.0</td>\n",
       "      <td>year</td>\n",
       "      <td>SPECIAL EDUCATION TEACHER</td>\n",
       "      <td>...</td>\n",
       "      <td>25-2052</td>\n",
       "      <td>Special Education Teachers, Kindergarten and E...</td>\n",
       "      <td>CA</td>\n",
       "      <td>NaN</td>\n",
       "      <td>y</td>\n",
       "      <td>H-1B</td>\n",
       "      <td>NaN</td>\n",
       "      <td>49470.0</td>\n",
       "      <td>teacher</td>\n",
       "      <td>3</td>\n",
       "    </tr>\n",
       "    <tr>\n",
       "      <th>3</th>\n",
       "      <td>I-200-14087-353657</td>\n",
       "      <td>denied</td>\n",
       "      <td>3/28/2014</td>\n",
       "      <td>4/7/2014</td>\n",
       "      <td>HARLINGEN CONSOLIDATED INDEPENDENT SCHOOL DIST...</td>\n",
       "      <td>251052.0</td>\n",
       "      <td>month</td>\n",
       "      <td>43800.0</td>\n",
       "      <td>year</td>\n",
       "      <td>SCIENCE TEACHER</td>\n",
       "      <td>...</td>\n",
       "      <td>25-1042</td>\n",
       "      <td>Biological Science Teachers, Postsecondary</td>\n",
       "      <td>TX</td>\n",
       "      <td>NaN</td>\n",
       "      <td>y</td>\n",
       "      <td>H-1B</td>\n",
       "      <td>NaN</td>\n",
       "      <td>43800.0</td>\n",
       "      <td>teacher</td>\n",
       "      <td>4</td>\n",
       "    </tr>\n",
       "    <tr>\n",
       "      <th>4</th>\n",
       "      <td>I-203-14259-128844</td>\n",
       "      <td>denied</td>\n",
       "      <td>9/16/2014</td>\n",
       "      <td>9/23/2014</td>\n",
       "      <td>SIGNAL SCIENCES CORPORATION</td>\n",
       "      <td>84573.0</td>\n",
       "      <td>bi-weekly</td>\n",
       "      <td>170000.0</td>\n",
       "      <td>year</td>\n",
       "      <td>SENIOR SOFTWARE ENGINEER</td>\n",
       "      <td>...</td>\n",
       "      <td>15-1133</td>\n",
       "      <td>Software Developers, Systems Software</td>\n",
       "      <td>OR</td>\n",
       "      <td>NaN</td>\n",
       "      <td>y</td>\n",
       "      <td>E-3 Australian</td>\n",
       "      <td>NaN</td>\n",
       "      <td>170000.0</td>\n",
       "      <td>software engineer</td>\n",
       "      <td>5</td>\n",
       "    </tr>\n",
       "  </tbody>\n",
       "</table>\n",
       "<p>5 rows × 26 columns</p>\n",
       "</div>"
      ],
      "text/plain": [
       "          CASE_NUMBER CASE_STATUS CASE_RECEIVED_DATE DECISION_DATE  \\\n",
       "0  I-200-14073-248840      denied          3/14/2014     3/21/2014   \n",
       "1       A-15061-55212      denied          3/19/2015     3/19/2015   \n",
       "2  I-200-13256-001092      denied          9/13/2013     9/23/2013   \n",
       "3  I-200-14087-353657      denied          3/28/2014      4/7/2014   \n",
       "4  I-203-14259-128844      denied          9/16/2014     9/23/2014   \n",
       "\n",
       "                                       EMPLOYER_NAME  \\\n",
       "0                ADVANCED TECHNOLOGY GROUP USA, INC.   \n",
       "1                     SAN FRANCISCO STATE UNIVERSITY   \n",
       "2                                    CAROUSEL SCHOOL   \n",
       "3  HARLINGEN CONSOLIDATED INDEPENDENT SCHOOL DIST...   \n",
       "4                        SIGNAL SCIENCES CORPORATION   \n",
       "\n",
       "   PREVAILING_WAGE_SUBMITTED PREVAILING_WAGE_SUBMITTED_UNIT  \\\n",
       "0                  6217100.0                           year   \n",
       "1                  5067600.0                           year   \n",
       "2                  4947000.0                           year   \n",
       "3                   251052.0                          month   \n",
       "4                    84573.0                      bi-weekly   \n",
       "\n",
       "   PAID_WAGE_SUBMITTED PAID_WAGE_SUBMITTED_UNIT  \\\n",
       "0              62171.0                     year   \n",
       "1              91440.0                     year   \n",
       "2              49470.0                     year   \n",
       "3              43800.0                     year   \n",
       "4             170000.0                     year   \n",
       "\n",
       "                          JOB_TITLE  ...  PREVAILING_WAGE_SOC_CODE  \\\n",
       "0                 SOFTWARE ENGINEER  ...                   15-1132   \n",
       "1  Assistant Professor of Marketing  ...                   25-1011   \n",
       "2         SPECIAL EDUCATION TEACHER  ...                   25-2052   \n",
       "3                   SCIENCE TEACHER  ...                   25-1042   \n",
       "4          SENIOR SOFTWARE ENGINEER  ...                   15-1133   \n",
       "\n",
       "                           PREVAILING_WAGE_SOC_TITLE  WORK_STATE  \\\n",
       "0                  Software Developers, Applications          IL   \n",
       "1                   Business Teachers, Postsecondary  CALIFORNIA   \n",
       "2  Special Education Teachers, Kindergarten and E...          CA   \n",
       "3         Biological Science Teachers, Postsecondary          TX   \n",
       "4              Software Developers, Systems Software          OR   \n",
       "\n",
       "  WORK_POSTAL_CODE  FULL_TIME_POSITION_Y_N      VISA_CLASS  \\\n",
       "0              NaN                       y            H-1B   \n",
       "1          94132.0                     NaN       greencard   \n",
       "2              NaN                       y            H-1B   \n",
       "3              NaN                       y            H-1B   \n",
       "4              NaN                       y  E-3 Australian   \n",
       "\n",
       "  PREVAILING_WAGE_PER_YEAR PAID_WAGE_PER_YEAR   JOB_TITLE_SUBGROUP order  \n",
       "0                      NaN            62171.0    software engineer     1  \n",
       "1                      NaN            91440.0  assistant professor     2  \n",
       "2                      NaN            49470.0              teacher     3  \n",
       "3                      NaN            43800.0              teacher     4  \n",
       "4                      NaN           170000.0    software engineer     5  \n",
       "\n",
       "[5 rows x 26 columns]"
      ]
     },
     "execution_count": 6,
     "metadata": {},
     "output_type": "execute_result"
    }
   ],
   "source": [
    "df.head()  # Shows the first records"
   ]
  },
  {
   "cell_type": "code",
   "execution_count": 7,
   "metadata": {
    "collapsed": false
   },
   "outputs": [
    {
     "name": "stdout",
     "output_type": "stream",
     "text": [
      "<class 'pandas.core.frame.DataFrame'>\n",
      "RangeIndex: 167278 entries, 0 to 167277\n",
      "Data columns (total 26 columns):\n",
      "CASE_NUMBER                       167278 non-null object\n",
      "CASE_STATUS                       167278 non-null object\n",
      "CASE_RECEIVED_DATE                167278 non-null object\n",
      "DECISION_DATE                     167278 non-null object\n",
      "EMPLOYER_NAME                     167278 non-null object\n",
      "PREVAILING_WAGE_SUBMITTED         167278 non-null float64\n",
      "PREVAILING_WAGE_SUBMITTED_UNIT    167278 non-null object\n",
      "PAID_WAGE_SUBMITTED               167278 non-null float64\n",
      "PAID_WAGE_SUBMITTED_UNIT          167278 non-null object\n",
      "JOB_TITLE                         167278 non-null object\n",
      "WORK_CITY                         167275 non-null object\n",
      "EDUCATION_LEVEL_REQUIRED          11093 non-null object\n",
      "COLLEGE_MAJOR_REQUIRED            11051 non-null object\n",
      "EXPERIENCE_REQUIRED_Y_N           11093 non-null object\n",
      "EXPERIENCE_REQUIRED_NUM_MONTHS    4965 non-null float64\n",
      "COUNTRY_OF_CITIZENSHIP            11093 non-null object\n",
      "PREVAILING_WAGE_SOC_CODE          167278 non-null object\n",
      "PREVAILING_WAGE_SOC_TITLE         167278 non-null object\n",
      "WORK_STATE                        167278 non-null object\n",
      "WORK_POSTAL_CODE                  53674 non-null object\n",
      "FULL_TIME_POSITION_Y_N            156185 non-null object\n",
      "VISA_CLASS                        167278 non-null object\n",
      "PREVAILING_WAGE_PER_YEAR          167210 non-null float64\n",
      "PAID_WAGE_PER_YEAR                167278 non-null float64\n",
      "JOB_TITLE_SUBGROUP                167278 non-null object\n",
      "order                             167278 non-null int64\n",
      "dtypes: float64(5), int64(1), object(20)\n",
      "memory usage: 33.2+ MB\n"
     ]
    }
   ],
   "source": [
    "df.info()"
   ]
  },
  {
   "cell_type": "code",
   "execution_count": 8,
   "metadata": {
    "collapsed": false
   },
   "outputs": [
    {
     "data": {
      "text/html": [
       "<div>\n",
       "<table border=\"1\" class=\"dataframe\">\n",
       "  <thead>\n",
       "    <tr style=\"text-align: right;\">\n",
       "      <th></th>\n",
       "      <th>PREVAILING_WAGE_SUBMITTED</th>\n",
       "      <th>PAID_WAGE_SUBMITTED</th>\n",
       "      <th>EXPERIENCE_REQUIRED_NUM_MONTHS</th>\n",
       "      <th>PREVAILING_WAGE_PER_YEAR</th>\n",
       "      <th>PAID_WAGE_PER_YEAR</th>\n",
       "      <th>order</th>\n",
       "    </tr>\n",
       "  </thead>\n",
       "  <tbody>\n",
       "    <tr>\n",
       "      <th>count</th>\n",
       "      <td>1.672780e+05</td>\n",
       "      <td>1.672780e+05</td>\n",
       "      <td>4965.000000</td>\n",
       "      <td>167210.000000</td>\n",
       "      <td>1.672780e+05</td>\n",
       "      <td>167278.000000</td>\n",
       "    </tr>\n",
       "    <tr>\n",
       "      <th>mean</th>\n",
       "      <td>7.115752e+04</td>\n",
       "      <td>8.164186e+04</td>\n",
       "      <td>34.692044</td>\n",
       "      <td>74274.868236</td>\n",
       "      <td>8.553277e+04</td>\n",
       "      <td>83714.716305</td>\n",
       "    </tr>\n",
       "    <tr>\n",
       "      <th>std</th>\n",
       "      <td>3.874624e+04</td>\n",
       "      <td>4.147703e+04</td>\n",
       "      <td>22.317783</td>\n",
       "      <td>25356.245893</td>\n",
       "      <td>3.873847e+04</td>\n",
       "      <td>48300.236431</td>\n",
       "    </tr>\n",
       "    <tr>\n",
       "      <th>min</th>\n",
       "      <td>5.050000e+00</td>\n",
       "      <td>5.050000e+00</td>\n",
       "      <td>0.000000</td>\n",
       "      <td>10504.000000</td>\n",
       "      <td>1.050000e+04</td>\n",
       "      <td>1.000000</td>\n",
       "    </tr>\n",
       "    <tr>\n",
       "      <th>25%</th>\n",
       "      <td>5.447500e+04</td>\n",
       "      <td>6.100000e+04</td>\n",
       "      <td>12.000000</td>\n",
       "      <td>56880.000000</td>\n",
       "      <td>6.300000e+04</td>\n",
       "      <td>41901.250000</td>\n",
       "    </tr>\n",
       "    <tr>\n",
       "      <th>50%</th>\n",
       "      <td>6.970100e+04</td>\n",
       "      <td>7.700000e+04</td>\n",
       "      <td>24.000000</td>\n",
       "      <td>70928.000000</td>\n",
       "      <td>7.860000e+04</td>\n",
       "      <td>83722.500000</td>\n",
       "    </tr>\n",
       "    <tr>\n",
       "      <th>75%</th>\n",
       "      <td>8.993700e+04</td>\n",
       "      <td>1.000000e+05</td>\n",
       "      <td>60.000000</td>\n",
       "      <td>90459.000000</td>\n",
       "      <td>1.000060e+05</td>\n",
       "      <td>125541.750000</td>\n",
       "    </tr>\n",
       "    <tr>\n",
       "      <th>max</th>\n",
       "      <td>6.217100e+06</td>\n",
       "      <td>2.500000e+06</td>\n",
       "      <td>144.000000</td>\n",
       "      <td>320000.000000</td>\n",
       "      <td>2.500000e+06</td>\n",
       "      <td>167361.000000</td>\n",
       "    </tr>\n",
       "  </tbody>\n",
       "</table>\n",
       "</div>"
      ],
      "text/plain": [
       "       PREVAILING_WAGE_SUBMITTED  PAID_WAGE_SUBMITTED  \\\n",
       "count               1.672780e+05         1.672780e+05   \n",
       "mean                7.115752e+04         8.164186e+04   \n",
       "std                 3.874624e+04         4.147703e+04   \n",
       "min                 5.050000e+00         5.050000e+00   \n",
       "25%                 5.447500e+04         6.100000e+04   \n",
       "50%                 6.970100e+04         7.700000e+04   \n",
       "75%                 8.993700e+04         1.000000e+05   \n",
       "max                 6.217100e+06         2.500000e+06   \n",
       "\n",
       "       EXPERIENCE_REQUIRED_NUM_MONTHS  PREVAILING_WAGE_PER_YEAR  \\\n",
       "count                     4965.000000             167210.000000   \n",
       "mean                        34.692044              74274.868236   \n",
       "std                         22.317783              25356.245893   \n",
       "min                          0.000000              10504.000000   \n",
       "25%                         12.000000              56880.000000   \n",
       "50%                         24.000000              70928.000000   \n",
       "75%                         60.000000              90459.000000   \n",
       "max                        144.000000             320000.000000   \n",
       "\n",
       "       PAID_WAGE_PER_YEAR          order  \n",
       "count        1.672780e+05  167278.000000  \n",
       "mean         8.553277e+04   83714.716305  \n",
       "std          3.873847e+04   48300.236431  \n",
       "min          1.050000e+04       1.000000  \n",
       "25%          6.300000e+04   41901.250000  \n",
       "50%          7.860000e+04   83722.500000  \n",
       "75%          1.000060e+05  125541.750000  \n",
       "max          2.500000e+06  167361.000000  "
      ]
     },
     "execution_count": 8,
     "metadata": {},
     "output_type": "execute_result"
    }
   ],
   "source": [
    "df.describe()  # Same as Summary command in R"
   ]
  },
  {
   "cell_type": "markdown",
   "metadata": {},
   "source": [
    "## Plot graphs"
   ]
  },
  {
   "cell_type": "code",
   "execution_count": 9,
   "metadata": {
    "collapsed": true
   },
   "outputs": [],
   "source": [
    "%matplotlib inline\n",
    "import matplotlib.pyplot as plt"
   ]
  },
  {
   "cell_type": "code",
   "execution_count": 13,
   "metadata": {
    "collapsed": false
   },
   "outputs": [
    {
     "data": {
      "text/plain": [
       "<matplotlib.axes._subplots.AxesSubplot at 0x1e843a48cf8>"
      ]
     },
     "execution_count": 13,
     "metadata": {},
     "output_type": "execute_result"
    },
    {
     "data": {
      "image/png": "[encoded data removed]",
      "text/plain": [
       "<matplotlib.figure.Figure at 0x1e843b78198>"
      ]
     },
     "metadata": {},
     "output_type": "display_data"
    }
   ],
   "source": [
    "plt.xlim(xmin = 0, xmax = 500000)\n",
    "df.PAID_WAGE_PER_YEAR.hist(bins = 20) "
   ]
  },
  {
   "cell_type": "markdown",
   "metadata": {},
   "source": [
    "We drawn a histogram of the raw data. \n",
    "Now we will draw a bar diagram, per JOB_TITLE_SUBGROUP"
   ]
  },
  {
   "cell_type": "code",
   "execution_count": 14,
   "metadata": {
    "collapsed": true
   },
   "outputs": [],
   "source": [
    "#First lets create the data for the graph. The data is based on sums, that is pivot-table\n",
    "#Lets first see the count of records per each job\n",
    "job_counts = pd.value_counts(df.JOB_TITLE_SUBGROUP)"
   ]
  },
  {
   "cell_type": "code",
   "execution_count": 15,
   "metadata": {
    "collapsed": false
   },
   "outputs": [
    {
     "data": {
      "text/plain": [
       "software engineer        99364\n",
       "business analyst         27811\n",
       "assistant professor      18866\n",
       "teacher                  13912\n",
       "data analyst              3840\n",
       "attorney                  1488\n",
       "data scientist            1227\n",
       "management consultant      770\n",
       "Name: JOB_TITLE_SUBGROUP, dtype: int64"
      ]
     },
     "execution_count": 15,
     "metadata": {},
     "output_type": "execute_result"
    }
   ],
   "source": [
    "job_counts"
   ]
  },
  {
   "cell_type": "code",
   "execution_count": 16,
   "metadata": {
    "collapsed": false
   },
   "outputs": [
    {
     "data": {
      "text/plain": [
       "<matplotlib.axes._subplots.AxesSubplot at 0x1e843afcd68>"
      ]
     },
     "execution_count": 16,
     "metadata": {},
     "output_type": "execute_result"
    },
    {
     "data": {
      "image/png": "[encoded data removed]",
      "text/plain": [
       "<matplotlib.figure.Figure at 0x1e843e66438>"
      ]
     },
     "metadata": {},
     "output_type": "display_data"
    }
   ],
   "source": [
    "job_counts.plot.barh(title='records per job',figsize=(10,5))"
   ]
  },
  {
   "cell_type": "markdown",
   "metadata": {},
   "source": [
    "## Plot pivot tables"
   ]
  },
  {
   "cell_type": "code",
   "execution_count": 17,
   "metadata": {
    "collapsed": true
   },
   "outputs": [],
   "source": [
    "job_pv = pd.pivot_table(df,index=[\"JOB_TITLE_SUBGROUP\"])"
   ]
  },
  {
   "cell_type": "code",
   "execution_count": 18,
   "metadata": {
    "collapsed": false
   },
   "outputs": [
    {
     "data": {
      "text/html": [
       "<div>\n",
       "<table border=\"1\" class=\"dataframe\">\n",
       "  <thead>\n",
       "    <tr style=\"text-align: right;\">\n",
       "      <th></th>\n",
       "      <th>EXPERIENCE_REQUIRED_NUM_MONTHS</th>\n",
       "      <th>PAID_WAGE_PER_YEAR</th>\n",
       "      <th>PAID_WAGE_SUBMITTED</th>\n",
       "      <th>PREVAILING_WAGE_PER_YEAR</th>\n",
       "      <th>PREVAILING_WAGE_SUBMITTED</th>\n",
       "      <th>order</th>\n",
       "    </tr>\n",
       "    <tr>\n",
       "      <th>JOB_TITLE_SUBGROUP</th>\n",
       "      <th></th>\n",
       "      <th></th>\n",
       "      <th></th>\n",
       "      <th></th>\n",
       "      <th></th>\n",
       "      <th></th>\n",
       "    </tr>\n",
       "  </thead>\n",
       "  <tbody>\n",
       "    <tr>\n",
       "      <th>assistant professor</th>\n",
       "      <td>15.572519</td>\n",
       "      <td>94876.713707</td>\n",
       "      <td>90252.098263</td>\n",
       "      <td>58831.682270</td>\n",
       "      <td>55350.886796</td>\n",
       "      <td>118620.036998</td>\n",
       "    </tr>\n",
       "    <tr>\n",
       "      <th>attorney</th>\n",
       "      <td>26.078947</td>\n",
       "      <td>146413.596714</td>\n",
       "      <td>129571.693239</td>\n",
       "      <td>106648.374274</td>\n",
       "      <td>91326.411022</td>\n",
       "      <td>43559.796371</td>\n",
       "    </tr>\n",
       "    <tr>\n",
       "      <th>business analyst</th>\n",
       "      <td>30.608614</td>\n",
       "      <td>71300.079566</td>\n",
       "      <td>65034.262793</td>\n",
       "      <td>64747.657608</td>\n",
       "      <td>59356.259678</td>\n",
       "      <td>102686.802057</td>\n",
       "    </tr>\n",
       "    <tr>\n",
       "      <th>data analyst</th>\n",
       "      <td>33.703125</td>\n",
       "      <td>70030.078688</td>\n",
       "      <td>66712.733880</td>\n",
       "      <td>62754.265046</td>\n",
       "      <td>59861.359354</td>\n",
       "      <td>107024.479167</td>\n",
       "    </tr>\n",
       "    <tr>\n",
       "      <th>data scientist</th>\n",
       "      <td>22.125000</td>\n",
       "      <td>108021.038248</td>\n",
       "      <td>106977.903504</td>\n",
       "      <td>90545.579707</td>\n",
       "      <td>89799.037408</td>\n",
       "      <td>52923.805216</td>\n",
       "    </tr>\n",
       "  </tbody>\n",
       "</table>\n",
       "</div>"
      ],
      "text/plain": [
       "                     EXPERIENCE_REQUIRED_NUM_MONTHS  PAID_WAGE_PER_YEAR  \\\n",
       "JOB_TITLE_SUBGROUP                                                        \n",
       "assistant professor                       15.572519        94876.713707   \n",
       "attorney                                  26.078947       146413.596714   \n",
       "business analyst                          30.608614        71300.079566   \n",
       "data analyst                              33.703125        70030.078688   \n",
       "data scientist                            22.125000       108021.038248   \n",
       "\n",
       "                     PAID_WAGE_SUBMITTED  PREVAILING_WAGE_PER_YEAR  \\\n",
       "JOB_TITLE_SUBGROUP                                                   \n",
       "assistant professor         90252.098263              58831.682270   \n",
       "attorney                   129571.693239             106648.374274   \n",
       "business analyst            65034.262793              64747.657608   \n",
       "data analyst                66712.733880              62754.265046   \n",
       "data scientist             106977.903504              90545.579707   \n",
       "\n",
       "                     PREVAILING_WAGE_SUBMITTED          order  \n",
       "JOB_TITLE_SUBGROUP                                             \n",
       "assistant professor               55350.886796  118620.036998  \n",
       "attorney                          91326.411022   43559.796371  \n",
       "business analyst                  59356.259678  102686.802057  \n",
       "data analyst                      59861.359354  107024.479167  \n",
       "data scientist                    89799.037408   52923.805216  "
      ]
     },
     "execution_count": 18,
     "metadata": {},
     "output_type": "execute_result"
    }
   ],
   "source": [
    "job_pv.head()"
   ]
  },
  {
   "cell_type": "code",
   "execution_count": 19,
   "metadata": {
    "collapsed": false
   },
   "outputs": [
    {
     "data": {
      "text/plain": [
       "<matplotlib.axes._subplots.AxesSubplot at 0x1e844420160>"
      ]
     },
     "execution_count": 19,
     "metadata": {},
     "output_type": "execute_result"
    },
    {
     "data": {
      "image/png": "[encoded data removed]",
      "text/plain": [
       "<matplotlib.figure.Figure at 0x1e844490208>"
      ]
     },
     "metadata": {},
     "output_type": "display_data"
    }
   ],
   "source": [
    "job_pv.PAID_WAGE_PER_YEAR.plot.barh(title='Payment per job per year',figsize=(10,5))"
   ]
  },
  {
   "cell_type": "code",
   "execution_count": 20,
   "metadata": {
    "collapsed": true
   },
   "outputs": [],
   "source": [
    "job_pv = pd.pivot_table(df,index=[\"JOB_TITLE_SUBGROUP\"], values = [\"PAID_WAGE_PER_YEAR\",\"PREVAILING_WAGE_PER_YEAR\"])"
   ]
  },
  {
   "cell_type": "code",
   "execution_count": 21,
   "metadata": {
    "collapsed": false
   },
   "outputs": [
    {
     "data": {
      "text/html": [
       "<div>\n",
       "<table border=\"1\" class=\"dataframe\">\n",
       "  <thead>\n",
       "    <tr style=\"text-align: right;\">\n",
       "      <th></th>\n",
       "      <th>PAID_WAGE_PER_YEAR</th>\n",
       "      <th>PREVAILING_WAGE_PER_YEAR</th>\n",
       "    </tr>\n",
       "    <tr>\n",
       "      <th>JOB_TITLE_SUBGROUP</th>\n",
       "      <th></th>\n",
       "      <th></th>\n",
       "    </tr>\n",
       "  </thead>\n",
       "  <tbody>\n",
       "    <tr>\n",
       "      <th>assistant professor</th>\n",
       "      <td>94876.713707</td>\n",
       "      <td>58831.682270</td>\n",
       "    </tr>\n",
       "    <tr>\n",
       "      <th>attorney</th>\n",
       "      <td>146413.596714</td>\n",
       "      <td>106648.374274</td>\n",
       "    </tr>\n",
       "    <tr>\n",
       "      <th>business analyst</th>\n",
       "      <td>71300.079566</td>\n",
       "      <td>64747.657608</td>\n",
       "    </tr>\n",
       "    <tr>\n",
       "      <th>data analyst</th>\n",
       "      <td>70030.078688</td>\n",
       "      <td>62754.265046</td>\n",
       "    </tr>\n",
       "    <tr>\n",
       "      <th>data scientist</th>\n",
       "      <td>108021.038248</td>\n",
       "      <td>90545.579707</td>\n",
       "    </tr>\n",
       "  </tbody>\n",
       "</table>\n",
       "</div>"
      ],
      "text/plain": [
       "                     PAID_WAGE_PER_YEAR  PREVAILING_WAGE_PER_YEAR\n",
       "JOB_TITLE_SUBGROUP                                               \n",
       "assistant professor        94876.713707              58831.682270\n",
       "attorney                  146413.596714             106648.374274\n",
       "business analyst           71300.079566              64747.657608\n",
       "data analyst               70030.078688              62754.265046\n",
       "data scientist            108021.038248              90545.579707"
      ]
     },
     "execution_count": 21,
     "metadata": {},
     "output_type": "execute_result"
    }
   ],
   "source": [
    "job_pv.head()"
   ]
  },
  {
   "cell_type": "code",
   "execution_count": 22,
   "metadata": {
    "collapsed": false
   },
   "outputs": [
    {
     "data": {
      "text/plain": [
       "<matplotlib.axes._subplots.AxesSubplot at 0x1e84463c400>"
      ]
     },
     "execution_count": 22,
     "metadata": {},
     "output_type": "execute_result"
    },
    {
     "data": {
      "image/png": "[encoded data removed]",
      "text/plain": [
       "<matplotlib.figure.Figure at 0x1e844912f28>"
      ]
     },
     "metadata": {},
     "output_type": "display_data"
    }
   ],
   "source": [
    "job_pv.plot.barh(title='Payment per job per year',figsize=(10,5))"
   ]
  },
  {
   "cell_type": "code",
   "execution_count": null,
   "metadata": {
    "collapsed": true
   },
   "outputs": [],
   "source": []
  }
 ],
 "metadata": {
  "kernelspec": {
   "display_name": "Python 3",
   "language": "python",
   "name": "python3"
  },
  "language_info": {
   "codemirror_mode": {
    "name": "ipython",
    "version": 3
   },
   "file_extension": ".py",
   "mimetype": "text/x-python",
   "name": "python",
   "nbconvert_exporter": "python",
   "pygments_lexer": "ipython3",
   "version": "3.6.0"
  }
 },
 "nbformat": 4,
 "nbformat_minor": 2
}
